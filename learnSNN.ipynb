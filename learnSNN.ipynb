{
 "cells": [
  {
   "cell_type": "code",
   "execution_count": 1,
   "metadata": {},
   "outputs": [
    {
     "name": "stderr",
     "output_type": "stream",
     "text": [
      "/home/cxq/.conda/envs/SNN/lib/python3.9/site-packages/ngclearn/__init__.py:12: UserWarning: Running ngclearn and jax in a python version prior to 3.10 may have unintended consequences. Compatability with python 3.8 is maintained to allow for lava-nc components and should only be used with those\n",
      "  warnings.warn(\n",
      "Missing configuration file. Attempted to locate file at \"json_files/config.json\". Default Config will be used. \n",
      "See https://ngc-learn.readthedocs.io/en/latest/tutorials/model_basics/configuration.html for additional information\n"
     ]
    }
   ],
   "source": [
    "from ngclearn.utils.io_utils import makedir\n",
    "from ngclearn.utils.viz.raster import create_raster_plot\n",
    "from ngclearn.utils.viz.synapse_plot import visualize\n",
    "from jax import numpy as jnp, random, jit, nn\n",
    "from ngclearn.utils.model_utils import scanner\n",
    "from ngcsimlib.compilers import compile_command, wrap_command\n",
    "from ngcsimlib.context import Context\n",
    "from ngcsimlib.operations import summation\n",
    "from ngclearn.components import (VarTrace, BernoulliCell, SLIFCell, RateCell,\n",
    "                                 StaticSynapse, HebbianSynapse)\n",
    "from networks.CSDPSynapse import CSDPSynapse\n",
    "from networks.goodnessModCell import GoodnessModCell\n",
    "from networks.maskedErrorCell import MaskedErrorCell as ErrorCell\n",
    "from ngclearn.utils.model_utils import softmax\n",
    "from utils.misc import csdp_deform #vrotate, rand_rotate,\n",
    "#from ngclearn.utils.model_utils import normalize_matrix\n",
    "import ngclearn.utils.weight_distribution as dist"
   ]
  },
  {
   "cell_type": "code",
   "execution_count": 2,
   "metadata": {},
   "outputs": [
    {
     "data": {
      "text/plain": [
       "{'dist': 'uniform', 'amin': -1.0, 'amax': 1.0}"
      ]
     },
     "execution_count": 2,
     "metadata": {},
     "output_type": "execute_result"
    }
   ],
   "source": [
    "dist.uniform(amin=-1., amax=1.)"
   ]
  },
  {
   "cell_type": "code",
   "execution_count": 3,
   "metadata": {},
   "outputs": [],
   "source": [
    "use_dyn_threshold = False"
   ]
  }
 ],
 "metadata": {
  "kernelspec": {
   "display_name": "SNN",
   "language": "python",
   "name": "python3"
  },
  "language_info": {
   "codemirror_mode": {
    "name": "ipython",
    "version": 3
   },
   "file_extension": ".py",
   "mimetype": "text/x-python",
   "name": "python",
   "nbconvert_exporter": "python",
   "pygments_lexer": "ipython3",
   "version": "3.9.17"
  }
 },
 "nbformat": 4,
 "nbformat_minor": 2
}
